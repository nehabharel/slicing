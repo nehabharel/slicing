{
  "nbformat": 4,
  "nbformat_minor": 0,
  "metadata": {
    "colab": {
      "provenance": []
    },
    "kernelspec": {
      "name": "python3",
      "display_name": "Python 3"
    },
    "language_info": {
      "name": "python"
    }
  },
  "cells": [
    {
      "cell_type": "code",
      "execution_count": null,
      "metadata": {
        "id": "TVEGWgQVd8Bx"
      },
      "outputs": [],
      "source": []
    },
    {
      "cell_type": "markdown",
      "source": [
        "**Create a list of Sandwich ingreients and use slicing to get some of the ingredients out of it**\n"
      ],
      "metadata": {
        "id": "Vk_z9q2BeC0o"
      }
    },
    {
      "cell_type": "code",
      "source": [
        "ingredients=[\"bread\",\"tomatoes\",\"onion\",\"cucumber\",\"ketchup\",\"salt\",\"pepper\"]\n",
        "ingredients[3:6]\n"
      ],
      "metadata": {
        "colab": {
          "base_uri": "https://localhost:8080/"
        },
        "id": "p8eIzAjceY3k",
        "outputId": "6d7b44d3-61ee-4ed6-93e9-3575cace2f57"
      },
      "execution_count": null,
      "outputs": [
        {
          "output_type": "execute_result",
          "data": {
            "text/plain": [
              "['cucumber', 'ketchup', 'salt']"
            ]
          },
          "metadata": {},
          "execution_count": 1
        }
      ]
    },
    {
      "cell_type": "markdown",
      "source": [],
      "metadata": {
        "id": "1P7j5lt0nRSG"
      }
    },
    {
      "cell_type": "code",
      "source": [
        "len(ingredients)\n"
      ],
      "metadata": {
        "colab": {
          "base_uri": "https://localhost:8080/"
        },
        "id": "CgGoSET1gJCC",
        "outputId": "148c9d2a-876d-44ce-fa71-6d4199365f6d"
      },
      "execution_count": null,
      "outputs": [
        {
          "output_type": "execute_result",
          "data": {
            "text/plain": [
              "7"
            ]
          },
          "metadata": {},
          "execution_count": 3
        }
      ]
    },
    {
      "cell_type": "code",
      "source": [
        "alt_ingredients=ingredients[1::3]\n",
        "print(alt_ingredients)"
      ],
      "metadata": {
        "colab": {
          "base_uri": "https://localhost:8080/"
        },
        "id": "8E81k5XSh5Ah",
        "outputId": "71cf1ea9-e8c9-4509-d82e-6d6ace59fad3"
      },
      "execution_count": null,
      "outputs": [
        {
          "output_type": "stream",
          "name": "stdout",
          "text": [
            "['tomatoes', 'ketchup']\n"
          ]
        }
      ]
    },
    {
      "cell_type": "markdown",
      "source": [
        "**You have a list with subjects and marks. Write python code to extract list of marks only out of first list**"
      ],
      "metadata": {
        "id": "kQR4OAxWiZUT"
      }
    },
    {
      "cell_type": "code",
      "source": [
        "sub_marks=('science','97','maths','98','english','85','cs','90')\n",
        "print(sub_marks[1::2])\n"
      ],
      "metadata": {
        "colab": {
          "base_uri": "https://localhost:8080/"
        },
        "id": "fJ8EHQOKc3Gr",
        "outputId": "b4b76159-cfdb-4e42-9029-d92f3ceaf31f"
      },
      "execution_count": null,
      "outputs": [
        {
          "output_type": "stream",
          "name": "stdout",
          "text": [
            "('97', '98', '85', '90')\n"
          ]
        }
      ]
    },
    {
      "cell_type": "code",
      "source": [],
      "metadata": {
        "id": "Jbruw23CeND5"
      },
      "execution_count": null,
      "outputs": []
    }
  ]
}